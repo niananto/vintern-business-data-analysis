{
  "cells": [
    {
      "attachments": {},
      "cell_type": "markdown",
      "metadata": {},
      "source": [
        "To Do list:  \n",
        "- Number of cluster analysis  \n",
        "- Frequency of words (visualization)  \n",
        "- Remove Unnecessary words  \n",
        "- Per cluster word frequency  "
      ]
    },
    {
      "cell_type": "code",
      "execution_count": 72,
      "metadata": {
        "id": "aNz3BpgVgdET"
      },
      "outputs": [],
      "source": [
        "import pandas as pd\n",
        "import numpy as np\n",
        "import nltk"
      ]
    },
    {
      "cell_type": "code",
      "execution_count": 73,
      "metadata": {},
      "outputs": [
        {
          "name": "stderr",
          "output_type": "stream",
          "text": [
            "[nltk_data] Downloading package punkt to\n",
            "[nltk_data]     C:\\Users\\nazmu\\AppData\\Roaming\\nltk_data...\n",
            "[nltk_data]   Package punkt is already up-to-date!\n",
            "[nltk_data] Downloading package stopwords to\n",
            "[nltk_data]     C:\\Users\\nazmu\\AppData\\Roaming\\nltk_data...\n",
            "[nltk_data]   Package stopwords is already up-to-date!\n"
          ]
        },
        {
          "data": {
            "text/plain": [
              "True"
            ]
          },
          "execution_count": 73,
          "metadata": {},
          "output_type": "execute_result"
        }
      ],
      "source": [
        "from nltk.tokenize import word_tokenize\n",
        "nltk.download('punkt')\n",
        "nltk.download('stopwords')"
      ]
    },
    {
      "cell_type": "code",
      "execution_count": 74,
      "metadata": {
        "id": "JZsN0QuxY4-1"
      },
      "outputs": [],
      "source": [
        "datapath = \"Transaction_Naration_Data_Set.csv\"\n",
        "# datapath = \"Transaction_Naration_Data_Set_short.csv\""
      ]
    },
    {
      "cell_type": "code",
      "execution_count": 75,
      "metadata": {
        "colab": {
          "base_uri": "https://localhost:8080/",
          "height": 241
        },
        "id": "6PEQswP0ghPI",
        "outputId": "2432b8b7-b530-4fba-f654-c6cceaaf0bd8"
      },
      "outputs": [],
      "source": [
        "rawDf = pd.read_csv(datapath)\n",
        "# rawDf.head(5)"
      ]
    },
    {
      "cell_type": "code",
      "execution_count": 76,
      "metadata": {
        "colab": {
          "base_uri": "https://localhost:8080/"
        },
        "id": "AvBYnXBnn6Xw",
        "outputId": "35bcbf96-1952-43ec-c3ac-c5a894a23203"
      },
      "outputs": [
        {
          "name": "stdout",
          "output_type": "stream",
          "text": [
            "['cash withdraw', 'cash withdrawal from a/c no.: ', 'cash withdraw from micro merchant point, mm a/c ', 'credit against merchant cash withdraw service from a/c-', 'cash withdraw from micro merchant point, mm a/c ']\n"
          ]
        }
      ],
      "source": [
        "narationList = rawDf['NARATION'].values.tolist()\n",
        "narationList = [str(x).lower() for x in narationList]\n",
        "print(narationList[0:5])"
      ]
    },
    {
      "cell_type": "code",
      "execution_count": 77,
      "metadata": {
        "colab": {
          "base_uri": "https://localhost:8080/"
        },
        "id": "wF-KfLmmn_6r",
        "outputId": "0185873a-a937-4713-daf1-5ca26f6fea44"
      },
      "outputs": [
        {
          "data": {
            "text/plain": [
              "22546758"
            ]
          },
          "execution_count": 77,
          "metadata": {},
          "output_type": "execute_result"
        }
      ],
      "source": [
        "len(narationList)"
      ]
    },
    {
      "cell_type": "code",
      "execution_count": 78,
      "metadata": {
        "colab": {
          "base_uri": "https://localhost:8080/",
          "height": 711
        },
        "id": "4NIK_Uqyobog",
        "outputId": "38c7cd38-2d35-48e6-b4f3-70834a733b5d"
      },
      "outputs": [],
      "source": [
        "narationTokens = [word_tokenize(x) for x in narationList]\n",
        "print(narationTokens[0:5])"
      ]
    },
    {
      "cell_type": "code",
      "execution_count": null,
      "metadata": {},
      "outputs": [
        {
          "name": "stdout",
          "output_type": "stream",
          "text": [
            "[['cash', 'withdraw'], ['cash', 'withdrawal', 'a/c', '.', ':'], ['cash', 'withdraw', 'micro', 'merchant', 'point', ',', 'mm', 'a/c'], ['credit', 'merchant', 'cash', 'withdraw', 'service', 'a/c-'], ['cash', 'withdraw', 'micro', 'merchant', 'point', ',', 'mm', 'a/c']]\n"
          ]
        }
      ],
      "source": [
        "stopWords = set(stopwords.words('english')) \n",
        "\n",
        "narationTokens = [[x for x in y if x not in stopWords] for y in narationTokens]\n",
        "print(narationTokens[0:5])"
      ]
    },
    {
      "cell_type": "code",
      "execution_count": null,
      "metadata": {},
      "outputs": [],
      "source": []
    }
  ],
  "metadata": {
    "colab": {
      "provenance": []
    },
    "kernelspec": {
      "display_name": "Python 3",
      "name": "python3"
    },
    "language_info": {
      "codemirror_mode": {
        "name": "ipython",
        "version": 3
      },
      "file_extension": ".py",
      "mimetype": "text/x-python",
      "name": "python",
      "nbconvert_exporter": "python",
      "pygments_lexer": "ipython3",
      "version": "3.11.3"
    }
  },
  "nbformat": 4,
  "nbformat_minor": 0
}
